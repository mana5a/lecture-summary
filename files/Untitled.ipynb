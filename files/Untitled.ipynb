{
 "cells": [
  {
   "cell_type": "code",
   "execution_count": 3,
   "metadata": {},
   "outputs": [],
   "source": [
    "from nltk.tokenize import sent_tokenize, word_tokenize\n",
    "from nltk.corpus import stopwords\n",
    "import nltk\n",
    "stop_words = set(stopwords.words('english'))"
   ]
  },
  {
   "cell_type": "code",
   "execution_count": 4,
   "metadata": {},
   "outputs": [
    {
     "name": "stdout",
     "output_type": "stream",
     "text": [
      "fourscore and seven years ago our fathers brought forth, on this continent, a new nation, conceived in liberty, and dedicated to the proposition that all men are created equal. now we are engaged in a great civil war, testing whether that nation, or any nation so conceived, and so dedicated, can long endure. we are met on a great battle-field of that war. we have come to dedicate a portion of that field, as a final resting-place for those who here gave their lives, that that nation might live. it is altogether fitting and proper that we should do this. but, in a larger sense, we cannot dedicate, we cannot consecrate—we cannot hallow—this ground. the brave men, living and dead, who struggled here, have consecrated it far above our poor power to add or detract. the world will little note, nor long remember what we say here, but it can never forget what they did here. it is for us the living, rather, to be dedicated here to the unfinished work which they who fought here have thus far so nobly advanced. it is rather for us to be here dedicated to the great task remaining before us—that from these honored dead we take increased devotion to that cause for which they here gave the last full measure of devotion—that we here highly resolve that these dead shall not have died in vain—that this nation, under god, shall have a new birth of freedom, and that government of the people, by the people, for the people, shall not perish from the earth.\n",
      "\n"
     ]
    }
   ],
   "source": [
    "file=open('text.txt','r')\n",
    "data=file.readlines()\n",
    "file.close()\n",
    "#print(data)\n",
    "data=data[0].lower()\n",
    "#print(type(data))\n",
    "print(data)"
   ]
  },
  {
   "cell_type": "code",
   "execution_count": 5,
   "metadata": {},
   "outputs": [
    {
     "name": "stdout",
     "output_type": "stream",
     "text": [
      "['fourscore and seven years ago our fathers brought forth, on this continent, a new nation, conceived in liberty, and dedicated to the proposition that all men are created equal.', 'now we are engaged in a great civil war, testing whether that nation, or any nation so conceived, and so dedicated, can long endure.', 'we are met on a great battle-field of that war.', 'we have come to dedicate a portion of that field, as a final resting-place for those who here gave their lives, that that nation might live.', 'it is altogether fitting and proper that we should do this.', 'but, in a larger sense, we cannot dedicate, we cannot consecrate—we cannot hallow—this ground.', 'the brave men, living and dead, who struggled here, have consecrated it far above our poor power to add or detract.', 'the world will little note, nor long remember what we say here, but it can never forget what they did here.', 'it is for us the living, rather, to be dedicated here to the unfinished work which they who fought here have thus far so nobly advanced.', 'it is rather for us to be here dedicated to the great task remaining before us—that from these honored dead we take increased devotion to that cause for which they here gave the last full measure of devotion—that we here highly resolve that these dead shall not have died in vain—that this nation, under god, shall have a new birth of freedom, and that government of the people, by the people, for the people, shall not perish from the earth.']\n",
      "10\n",
      "['fourscore', 'and', 'seven', 'years', 'ago', 'our', 'fathers', 'brought', 'forth', ',', 'on', 'this', 'continent', ',', 'a', 'new', 'nation', ',', 'conceived', 'in', 'liberty', ',', 'and', 'dedicated', 'to', 'the', 'proposition', 'that', 'all', 'men', 'are', 'created', 'equal', '.', 'now', 'we', 'are', 'engaged', 'in', 'a', 'great', 'civil', 'war', ',', 'testing', 'whether', 'that', 'nation', ',', 'or', 'any', 'nation', 'so', 'conceived', ',', 'and', 'so', 'dedicated', ',', 'can', 'long', 'endure', '.', 'we', 'are', 'met', 'on', 'a', 'great', 'battle-field', 'of', 'that', 'war', '.', 'we', 'have', 'come', 'to', 'dedicate', 'a', 'portion', 'of', 'that', 'field', ',', 'as', 'a', 'final', 'resting-place', 'for', 'those', 'who', 'here', 'gave', 'their', 'lives', ',', 'that', 'that', 'nation', 'might', 'live', '.', 'it', 'is', 'altogether', 'fitting', 'and', 'proper', 'that', 'we', 'should', 'do', 'this', '.', 'but', ',', 'in', 'a', 'larger', 'sense', ',', 'we', 'can', 'not', 'dedicate', ',', 'we', 'can', 'not', 'consecrate—we', 'can', 'not', 'hallow—this', 'ground', '.', 'the', 'brave', 'men', ',', 'living', 'and', 'dead', ',', 'who', 'struggled', 'here', ',', 'have', 'consecrated', 'it', 'far', 'above', 'our', 'poor', 'power', 'to', 'add', 'or', 'detract', '.', 'the', 'world', 'will', 'little', 'note', ',', 'nor', 'long', 'remember', 'what', 'we', 'say', 'here', ',', 'but', 'it', 'can', 'never', 'forget', 'what', 'they', 'did', 'here', '.', 'it', 'is', 'for', 'us', 'the', 'living', ',', 'rather', ',', 'to', 'be', 'dedicated', 'here', 'to', 'the', 'unfinished', 'work', 'which', 'they', 'who', 'fought', 'here', 'have', 'thus', 'far', 'so', 'nobly', 'advanced', '.', 'it', 'is', 'rather', 'for', 'us', 'to', 'be', 'here', 'dedicated', 'to', 'the', 'great', 'task', 'remaining', 'before', 'us—that', 'from', 'these', 'honored', 'dead', 'we', 'take', 'increased', 'devotion', 'to', 'that', 'cause', 'for', 'which', 'they', 'here', 'gave', 'the', 'last', 'full', 'measure', 'of', 'devotion—that', 'we', 'here', 'highly', 'resolve', 'that', 'these', 'dead', 'shall', 'not', 'have', 'died', 'in', 'vain—that', 'this', 'nation', ',', 'under', 'god', ',', 'shall', 'have', 'a', 'new', 'birth', 'of', 'freedom', ',', 'and', 'that', 'government', 'of', 'the', 'people', ',', 'by', 'the', 'people', ',', 'for', 'the', 'people', ',', 'shall', 'not', 'perish', 'from', 'the', 'earth', '.']\n"
     ]
    }
   ],
   "source": [
    "phrases = sent_tokenize(data)\n",
    "words = word_tokenize(data)\n",
    "\n",
    "print(phrases)\n",
    "print(len(phrases))\n",
    "sent=phrases\n",
    "print(words)"
   ]
  },
  {
   "cell_type": "code",
   "execution_count": 6,
   "metadata": {},
   "outputs": [
    {
     "name": "stdout",
     "output_type": "stream",
     "text": [
      "['fourscore', 'and', 'seven', 'years', 'ago', 'our', 'fathers', 'brought', 'forth', 'on', 'this', 'continent', 'a', 'new', 'nation', 'conceived', 'in', 'liberty', 'and', 'dedicated', 'to', 'the', 'proposition', 'that', 'all', 'men', 'are', 'created', 'equal', 'now', 'we', 'are', 'engaged', 'in', 'a', 'great', 'civil', 'war', 'testing', 'whether', 'that', 'nation', 'or', 'any', 'nation', 'so', 'conceived', 'and', 'so', 'dedicated', 'can', 'long', 'endure', 'we', 'are', 'met', 'on', 'a', 'great', 'of', 'that', 'war', 'we', 'have', 'come', 'to', 'dedicate', 'a', 'portion', 'of', 'that', 'field', 'as', 'a', 'final', 'for', 'those', 'who', 'here', 'gave', 'their', 'lives', 'that', 'that', 'nation', 'might', 'live', 'it', 'is', 'altogether', 'fitting', 'and', 'proper', 'that', 'we', 'should', 'do', 'this', 'but', 'in', 'a', 'larger', 'sense', 'we', 'can', 'not', 'dedicate', 'we', 'can', 'not', 'can', 'not', 'ground', 'the', 'brave', 'men', 'living', 'and', 'dead', 'who', 'struggled', 'here', 'have', 'consecrated', 'it', 'far', 'above', 'our', 'poor', 'power', 'to', 'add', 'or', 'detract', 'the', 'world', 'will', 'little', 'note', 'nor', 'long', 'remember', 'what', 'we', 'say', 'here', 'but', 'it', 'can', 'never', 'forget', 'what', 'they', 'did', 'here', 'it', 'is', 'for', 'us', 'the', 'living', 'rather', 'to', 'be', 'dedicated', 'here', 'to', 'the', 'unfinished', 'work', 'which', 'they', 'who', 'fought', 'here', 'have', 'thus', 'far', 'so', 'nobly', 'advanced', 'it', 'is', 'rather', 'for', 'us', 'to', 'be', 'here', 'dedicated', 'to', 'the', 'great', 'task', 'remaining', 'before', 'from', 'these', 'honored', 'dead', 'we', 'take', 'increased', 'devotion', 'to', 'that', 'cause', 'for', 'which', 'they', 'here', 'gave', 'the', 'last', 'full', 'measure', 'of', 'we', 'here', 'highly', 'resolve', 'that', 'these', 'dead', 'shall', 'not', 'have', 'died', 'in', 'this', 'nation', 'under', 'god', 'shall', 'have', 'a', 'new', 'birth', 'of', 'freedom', 'and', 'that', 'government', 'of', 'the', 'people', 'by', 'the', 'people', 'for', 'the', 'people', 'shall', 'not', 'perish', 'from', 'the', 'earth']\n"
     ]
    }
   ],
   "source": [
    "tokens=[x for x in words if x.isalpha()]\n",
    "print(tokens)"
   ]
  },
  {
   "cell_type": "code",
   "execution_count": 7,
   "metadata": {},
   "outputs": [],
   "source": [
    "final=[]\n",
    "for word in tokens:\n",
    "    if word not in stop_words:\n",
    "        final.append(word)\n",
    " \n",
    "token_fd = nltk.FreqDist(final)"
   ]
  },
  {
   "cell_type": "code",
   "execution_count": 8,
   "metadata": {},
   "outputs": [],
   "source": [
    "token_fd\n",
    "keywords=token_fd.most_common(10)"
   ]
  },
  {
   "cell_type": "code",
   "execution_count": 9,
   "metadata": {},
   "outputs": [
    {
     "name": "stdout",
     "output_type": "stream",
     "text": [
      "[('fourscore and seven years ago our fathers brought forth, on this continent, a new nation, conceived in liberty, and dedicated to the proposition that all men are created equal.', 27, ['nation', 'dedicated']), ('now we are engaged in a great civil war, testing whether that nation, or any nation so conceived, and so dedicated, can long endure.', 28, ['great', 'nation', 'nation', 'dedicated']), ('we are met on a great battle-field of that war.', 6, ['great']), ('we have come to dedicate a portion of that field, as a final resting-place for those who here gave their lives, that that nation might live.', 16, ['nation']), ('it is altogether fitting and proper that we should do this.', 3, []), ('but, in a larger sense, we cannot dedicate, we cannot consecrate—we cannot hallow—this ground.', 5, []), ('the brave men, living and dead, who struggled here, have consecrated it far above our poor power to add or detract.', 16, ['dead']), ('the world will little note, nor long remember what we say here, but it can never forget what they did here.', 9, []), ('it is for us the living, rather, to be dedicated here to the unfinished work which they who fought here have thus far so nobly advanced.', 18, ['dedicated']), ('it is rather for us to be here dedicated to the great task remaining before us—that from these honored dead we take increased devotion to that cause for which they here gave the last full measure of devotion—that we here highly resolve that these dead shall not have died in vain—that this nation, under god, shall have a new birth of freedom, and that government of the people, by the people, for the people, shall not perish from the earth.', 63, ['dedicated', 'great', 'dead', 'dead', 'shall', 'nation', 'shall', 'people', 'people', 'people', 'shall'])]\n"
     ]
    }
   ],
   "source": [
    "mod_sen=[]\n",
    "for sen in sent:\n",
    "    score=0\n",
    "    keys=[]\n",
    "    for word in nltk.word_tokenize(sen):\n",
    "        score+=token_fd[word] \n",
    "        if token_fd[word]>2:\n",
    "            keys.append(word)\n",
    "    mod_sen.append((sen,score,keys))\n",
    "print(mod_sen)"
   ]
  },
  {
   "cell_type": "code",
   "execution_count": 10,
   "metadata": {},
   "outputs": [],
   "source": [
    "sort_final=sorted(mod_sen,key=lambda tup: tup[1])\n",
    "#print(sort_final[:5])"
   ]
  },
  {
   "cell_type": "code",
   "execution_count": 11,
   "metadata": {},
   "outputs": [
    {
     "name": "stdout",
     "output_type": "stream",
     "text": [
      "the brave men, living and dead, who struggled here, have consecrated it far above our poor power to add or detract. : 16 : ['dead'] \n",
      "\n",
      "it is for us the living, rather, to be dedicated here to the unfinished work which they who fought here have thus far so nobly advanced. : 18 : ['dedicated'] \n",
      "\n",
      "fourscore and seven years ago our fathers brought forth, on this continent, a new nation, conceived in liberty, and dedicated to the proposition that all men are created equal. : 27 : ['nation', 'dedicated'] \n",
      "\n",
      "now we are engaged in a great civil war, testing whether that nation, or any nation so conceived, and so dedicated, can long endure. : 28 : ['great', 'nation', 'nation', 'dedicated'] \n",
      "\n",
      "it is rather for us to be here dedicated to the great task remaining before us—that from these honored dead we take increased devotion to that cause for which they here gave the last full measure of devotion—that we here highly resolve that these dead shall not have died in vain—that this nation, under god, shall have a new birth of freedom, and that government of the people, by the people, for the people, shall not perish from the earth. : 63 : ['dedicated', 'great', 'dead', 'dead', 'shall', 'nation', 'shall', 'people', 'people', 'people', 'shall'] \n",
      "\n"
     ]
    }
   ],
   "source": [
    "for i in sort_final[-5:]:\n",
    "    print(i[0],':',i[1],':',i[2],'\\n')"
   ]
  },
  {
   "cell_type": "code",
   "execution_count": 14,
   "metadata": {},
   "outputs": [],
   "source": [
    "import os.path\n",
    "from gensim import corpora\n",
    "from gensim.models import LsiModel\n",
    "from nltk.tokenize import RegexpTokenizer\n",
    "from nltk.corpus import stopwords\n",
    "from nltk.stem.porter import PorterStemmer\n",
    "from gensim.models.coherencemodel import CoherenceModel\n",
    "import matplotlib.pyplot as plt\n",
    "p_stemmer = PorterStemmer()"
   ]
  },
  {
   "cell_type": "code",
   "execution_count": 17,
   "metadata": {},
   "outputs": [
    {
     "name": "stdout",
     "output_type": "stream",
     "text": [
      "[['fourscor', 'seven', 'year', 'ago', 'father', 'brought', 'forth', 'contin', 'new', 'nation', 'conceiv', 'liberti', 'dedic', 'proposit', 'men', 'creat', 'equal', 'engag', 'great', 'civil', 'war', 'test', 'whether', 'nation', 'nation', 'conceiv', 'dedic', 'long', 'endur', 'met', 'great', 'war', 'come', 'dedic', 'portion', 'field', 'final', 'gave', 'live', 'nation', 'might', 'live', 'altogeth', 'fit', 'proper', 'larger', 'sens', 'dedic', 'ground', 'brave', 'men', 'live', 'dead', 'struggl', 'consecr', 'far', 'poor', 'power', 'add', 'detract', 'world', 'littl', 'note', 'long', 'rememb', 'say', 'never', 'forget', 'us', 'live', 'rather', 'dedic', 'unfinish', 'work', 'fought', 'thu', 'far', 'nobli', 'advanc', 'rather', 'us', 'dedic', 'great', 'task', 'remain', 'honor', 'dead', 'take', 'increas', 'devot', 'caus', 'gave', 'last', 'full', 'measur', 'highli', 'resolv', 'dead', 'shall', 'die', 'nation', 'god', 'shall', 'new', 'birth', 'freedom', 'govern', 'peopl', 'peopl', 'peopl', 'shall', 'perish', 'earth']]\n"
     ]
    }
   ],
   "source": [
    "stemmed_tokens = [p_stemmer.stem(i) for i in final]\n",
    "# add tokens to list\n",
    "texts=[]\n",
    "texts.append(stemmed_tokens)\n",
    "print(texts)"
   ]
  },
  {
   "cell_type": "code",
   "execution_count": null,
   "metadata": {},
   "outputs": [],
   "source": []
  }
 ],
 "metadata": {
  "kernelspec": {
   "display_name": "Python 3",
   "language": "python",
   "name": "python3"
  },
  "language_info": {
   "codemirror_mode": {
    "name": "ipython",
    "version": 3
   },
   "file_extension": ".py",
   "mimetype": "text/x-python",
   "name": "python",
   "nbconvert_exporter": "python",
   "pygments_lexer": "ipython3",
   "version": "3.6.8"
  }
 },
 "nbformat": 4,
 "nbformat_minor": 2
}

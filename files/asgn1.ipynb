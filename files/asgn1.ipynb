{
 "cells": [
  {
   "cell_type": "markdown",
   "metadata": {},
   "source": [
    "<h1> PART 1 </h1> <br>\n",
    "Importing required packages, and initialising a list of stop words"
   ]
  },
  {
   "cell_type": "code",
   "execution_count": 35,
   "metadata": {},
   "outputs": [
    {
     "name": "stdout",
     "output_type": "stream",
     "text": [
      "Empty DataFrame\n",
      "Columns: [Fourscore and seven years ago our fathers brought forth,  on this continent,  a new nation,  conceived in liberty,  and dedicated to the proposition that all men are created equal. Now we are engaged in a great civil war,  testing whether that nation,  or any nation so conceived,  and so dedicated,  can long endure. We are met on a great battle-field of that war. We have come to dedicate a portion of that field,  as a final resting-place for those who here gave their lives,  that that nation might live. It is altogether fitting and proper that we should do this. But,  in a larger sense,  we cannot dedicate,  we cannot consecrate—we cannot hallow—this ground. The brave men,  living and dead,  who struggled here,  have consecrated it far above our poor power to add or detract. The world will little note,  nor long remember what we say here,  but it can never forget what they did here. It is for us the living,  rather,  to be dedicated here to the unfinished work which they who fought here have thus far so nobly advanced. It is rather for us to be here dedicated to the great task remaining before us—that from these honored dead we take increased devotion to that cause for which they here gave the last full measure of devotion—that we here highly resolve that these dead shall not have died in vain—that this nation,  under God,  shall have a new birth of freedom,  and that government of the people,  by the people,  for the people,  shall not perish from the earth.]\n",
      "Index: []\n",
      "\n",
      "[0 rows x 27 columns]\n"
     ]
    }
   ],
   "source": [
    "import nltk\n",
    "#nltk.download('punkt')\n",
    "#nltk.download('averaged_perceptron_tagger')\n",
    "#nltk.download('stopwords')\n",
    "from nltk.corpus import stopwords\n",
    "import pandas as pd\n",
    "import re\n",
    "file=pd.read_csv('text.txt', error_bad_lines=False)\n",
    "stop_words = set(stopwords.words('english'))\n",
    "print(file)"
   ]
  },
  {
   "cell_type": "markdown",
   "metadata": {},
   "source": [
    "Review text is extracted then split into sentences. <br>\n",
    "Each sentence is split into words"
   ]
  },
  {
   "cell_type": "code",
   "execution_count": 36,
   "metadata": {},
   "outputs": [
    {
     "name": "stdout",
     "output_type": "stream",
     "text": [
      "['fourscore and seven years ago our fathers brought forth', ' on this continent', ' a new nation', ' conceived in liberty', ' and dedicated to the proposition that all men are created equal.', 'now we are engaged in a great civil war', ' testing whether that nation', ' or any nation so conceived', ' and so dedicated', ' can long endure.', 'we are met on a great battle-field of that war.', 'we have come to dedicate a portion of that field', ' as a final resting-place for those who here gave their lives', ' that that nation might live.', 'it is altogether fitting and proper that we should do this.', 'but', ' in a larger sense', ' we cannot dedicate', ' we cannot consecrate—we cannot hallow—this ground.', 'the brave men', ' living and dead', ' who struggled here', ' have consecrated it far above our poor power to add or detract.', 'the world will little note', ' nor long remember what we say here', ' but it can never forget what they did here.', 'it is for us the living', ' rather', ' to be dedicated here to the unfinished work which they who fought here have thus far so nobly advanced.', 'it is rather for us to be here dedicated to the great task remaining before us—that from these honored dead we take increased devotion to that cause for which they here gave the last full measure of devotion—that we here highly resolve that these dead shall not have died in vain—that this nation', ' under god', ' shall have a new birth of freedom', ' and that government of the people', ' by the people', ' for the people', ' shall not perish from the earth.']\n"
     ]
    }
   ],
   "source": [
    "valid=file\n",
    "lines=valid\n",
    "#print(lines)\n",
    "sent=[]\n",
    "words=[]\n",
    "for line in lines:\n",
    "    sent.extend(nltk.sent_tokenize(line.lower()))\n",
    "print(sent)\n",
    "for sen in sent:\n",
    "    words.extend(nltk.word_tokenize(sen))\n",
    "tokens=[x for x in words if x.isalpha()]\n",
    "#print(tokens)\n",
    "#print(sent)"
   ]
  },
  {
   "cell_type": "markdown",
   "metadata": {},
   "source": [
    "Stop words are removed from the list of tokens"
   ]
  },
  {
   "cell_type": "code",
   "execution_count": 37,
   "metadata": {},
   "outputs": [],
   "source": [
    "final=[]\n",
    "for word in tokens:\n",
    "    if word not in stop_words:\n",
    "        final.append(word)\n",
    " \n",
    "token_fd = nltk.FreqDist(final)"
   ]
  },
  {
   "cell_type": "markdown",
   "metadata": {},
   "source": [
    "Frequency distribution of the tokens (after stop word removal) is found"
   ]
  },
  {
   "cell_type": "code",
   "execution_count": 38,
   "metadata": {},
   "outputs": [
    {
     "data": {
      "text/plain": [
       "[('nation', 5),\n",
       " ('dedicated', 4),\n",
       " ('great', 3),\n",
       " ('dead', 3),\n",
       " ('shall', 3),\n",
       " ('people', 3),\n",
       " ('new', 2),\n",
       " ('conceived', 2),\n",
       " ('men', 2),\n",
       " ('war', 2)]"
      ]
     },
     "execution_count": 38,
     "metadata": {},
     "output_type": "execute_result"
    }
   ],
   "source": [
    "token_fd\n",
    "token_fd.most_common(10)"
   ]
  },
  {
   "cell_type": "markdown",
   "metadata": {},
   "source": [
    "The score of each sentence is found as the sum of frequencies of the words in that sentence"
   ]
  },
  {
   "cell_type": "code",
   "execution_count": 39,
   "metadata": {},
   "outputs": [
    {
     "name": "stdout",
     "output_type": "stream",
     "text": [
      "[('fourscore and seven years ago our fathers brought forth', 7), (' on this continent', 1), (' a new nation', 7), (' conceived in liberty', 3), (' and dedicated to the proposition that all men are created equal.', 9), ('now we are engaged in a great civil war', 7), (' testing whether that nation', 7), (' or any nation so conceived', 7), (' and so dedicated', 4), (' can long endure.', 3), ('we are met on a great battle-field of that war.', 6), ('we have come to dedicate a portion of that field', 5), (' as a final resting-place for those who here gave their lives', 4), (' that that nation might live.', 7), ('it is altogether fitting and proper that we should do this.', 3), ('but', 0), (' in a larger sense', 2), (' we cannot dedicate', 2), (' we cannot consecrate—we cannot hallow—this ground.', 1), ('the brave men', 3), (' living and dead', 5), (' who struggled here', 1), (' have consecrated it far above our poor power to add or detract.', 7), ('the world will little note', 3), (' nor long remember what we say here', 4), (' but it can never forget what they did here.', 2), ('it is for us the living', 4), (' rather', 2), (' to be dedicated here to the unfinished work which they who fought here have thus far so nobly advanced.', 12), ('it is rather for us to be here dedicated to the great task remaining before us—that from these honored dead we take increased devotion to that cause for which they here gave the last full measure of devotion—that we here highly resolve that these dead shall not have died in vain—that this nation', 40), (' under god', 1), (' shall have a new birth of freedom', 7), (' and that government of the people', 4), (' by the people', 3), (' for the people', 3), (' shall not perish from the earth.', 5)]\n"
     ]
    }
   ],
   "source": [
    "mod_sen=[]\n",
    "for sen in sent:\n",
    "    score=0\n",
    "    for word in nltk.word_tokenize(sen):\n",
    "        score+=token_fd[word]    \n",
    "    mod_sen.append((sen,score))\n",
    "print(mod_sen)"
   ]
  },
  {
   "cell_type": "markdown",
   "metadata": {},
   "source": [
    "The list of all sentences is sorted by their score in ascending order"
   ]
  },
  {
   "cell_type": "code",
   "execution_count": 40,
   "metadata": {},
   "outputs": [],
   "source": [
    "sort_final=sorted(mod_sen,key=lambda tup: tup[1])\n",
    "#print(sort_final[:5])"
   ]
  },
  {
   "cell_type": "markdown",
   "metadata": {},
   "source": [
    "<b>FINAL SUMMARY</b> <br>\n",
    "Top 5 sentences and their scores"
   ]
  },
  {
   "cell_type": "code",
   "execution_count": 41,
   "metadata": {},
   "outputs": [
    {
     "name": "stdout",
     "output_type": "stream",
     "text": [
      " have consecrated it far above our poor power to add or detract. : 7 \n",
      "\n",
      " shall have a new birth of freedom : 7 \n",
      "\n",
      " and dedicated to the proposition that all men are created equal. : 9 \n",
      "\n",
      " to be dedicated here to the unfinished work which they who fought here have thus far so nobly advanced. : 12 \n",
      "\n",
      "it is rather for us to be here dedicated to the great task remaining before us—that from these honored dead we take increased devotion to that cause for which they here gave the last full measure of devotion—that we here highly resolve that these dead shall not have died in vain—that this nation : 40 \n",
      "\n"
     ]
    }
   ],
   "source": [
    "for i in sort_final[-5:]:\n",
    "    print(i[0],':',i[1],'\\n')"
   ]
  },
  {
   "cell_type": "markdown",
   "metadata": {},
   "source": [
    "- Multiple occurences of words in a sentence that have a high frequency associated with them increases the score of a sentence. <br>\n",
    "- The amount of relevant information that a sentence contain can be thought to be high if it contains a lot of frequently used words. "
   ]
  }
 ],
 "metadata": {
  "kernelspec": {
   "display_name": "Python 3",
   "language": "python",
   "name": "python3"
  },
  "language_info": {
   "codemirror_mode": {
    "name": "ipython",
    "version": 3
   },
   "file_extension": ".py",
   "mimetype": "text/x-python",
   "name": "python",
   "nbconvert_exporter": "python",
   "pygments_lexer": "ipython3",
   "version": "3.6.8"
  }
 },
 "nbformat": 4,
 "nbformat_minor": 2
}

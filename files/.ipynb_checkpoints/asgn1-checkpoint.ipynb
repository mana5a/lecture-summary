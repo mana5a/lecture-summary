{
 "cells": [
  {
   "cell_type": "markdown",
   "metadata": {},
   "source": [
    "<h1> PART 1 </h1> <br>\n",
    "Importing required packages, and initialising a list of stop words"
   ]
  },
  {
   "cell_type": "code",
   "execution_count": 26,
   "metadata": {},
   "outputs": [],
   "source": [
    "import nltk\n",
    "#nltk.download('punkt')\n",
    "#nltk.download('averaged_perceptron_tagger')\n",
    "#nltk.download('stopwords')\n",
    "from nltk.corpus import stopwords\n",
    "import pandas as pd\n",
    "import re\n",
    "file=pd.read_csv('text.txt', error_bad_lines=False)\n",
    "stop_words = set(stopwords.words('english'))\n",
    "#print(file)"
   ]
  },
  {
   "cell_type": "markdown",
   "metadata": {},
   "source": [
    "Review text is extracted then split into sentences. <br>\n",
    "Each sentence is split into words"
   ]
  },
  {
   "cell_type": "code",
   "execution_count": 30,
   "metadata": {},
   "outputs": [
    {
     "name": "stdout",
     "output_type": "stream",
     "text": [
      "['Fourscore and seven years ago our fathers brought forth', ' on this continent', ' a new nation', ' conceived in liberty', ' and dedicated to the proposition that all men are created equal.', 'Now we are engaged in a great civil war', ' testing whether that nation', ' or any nation so conceived', ' and so dedicated', ' can long endure.', 'We are met on a great battle-field of that war.', 'We have come to dedicate a portion of that field', ' as a final resting-place for those who here gave their lives', ' that that nation might live.', 'It is altogether fitting and proper that we should do this.', 'But', ' in a larger sense', ' we cannot dedicate', ' we cannot consecrate—we cannot hallow—this ground.', 'The brave men', ' living and dead', ' who struggled here', ' have consecrated it far above our poor power to add or detract.', 'The world will little note', ' nor long remember what we say here', ' but it can never forget what they did here.', 'It is for us the living', ' rather', ' to be dedicated here to the unfinished work which they who fought here have thus far so nobly advanced.', 'It is rather for us to be here dedicated to the great task remaining before us—that from these honored dead we take increased devotion to that cause for which they here gave the last full measure of devotion—that we here highly resolve that these dead shall not have died in vain—that this nation', ' under God', ' shall have a new birth of freedom', ' and that government of the people', ' by the people', ' for the people', ' shall not perish from the earth.']\n"
     ]
    }
   ],
   "source": [
    "valid=file\n",
    "lines=valid\n",
    "#print(lines)\n",
    "sent=[]\n",
    "words=[]\n",
    "for line in lines:\n",
    "    sent.extend(nltk.sent_tokenize(line.lower()))\n",
    "print(sent)\n",
    "for sen in sent:\n",
    "    words.extend(nltk.word_tokenize(sen))\n",
    "tokens=[x for x in words if x.isalpha()]\n",
    "#print(tokens)\n",
    "#print(sent)"
   ]
  },
  {
   "cell_type": "markdown",
   "metadata": {},
   "source": [
    "Stop words are removed from the list of tokens"
   ]
  },
  {
   "cell_type": "code",
   "execution_count": 21,
   "metadata": {},
   "outputs": [],
   "source": [
    "final=[]\n",
    "for word in tokens:\n",
    "    if word not in stop_words:\n",
    "        final.append(word)\n",
    " \n",
    "token_fd = nltk.FreqDist(final)"
   ]
  },
  {
   "cell_type": "markdown",
   "metadata": {},
   "source": [
    "Frequency distribution of the tokens (after stop word removal) is found"
   ]
  },
  {
   "cell_type": "code",
   "execution_count": 22,
   "metadata": {},
   "outputs": [
    {
     "data": {
      "text/plain": [
       "[('study', 3),\n",
       " ('section', 2),\n",
       " ('memory', 2),\n",
       " ('concept', 2),\n",
       " ('overlearning', 2),\n",
       " ('continue', 2),\n",
       " ('recall', 2),\n",
       " ('perfectly', 2),\n",
       " ('topic', 2),\n",
       " ('last', 1)]"
      ]
     },
     "execution_count": 22,
     "metadata": {},
     "output_type": "execute_result"
    }
   ],
   "source": [
    "token_fd\n",
    "token_fd.most_common(10)"
   ]
  },
  {
   "cell_type": "markdown",
   "metadata": {},
   "source": [
    "The score of each sentence is found as the sum of frequencies of the words in that sentence"
   ]
  },
  {
   "cell_type": "code",
   "execution_count": 23,
   "metadata": {},
   "outputs": [
    {
     "name": "stdout",
     "output_type": "stream",
     "text": [
      "[('in the last section', 3), (' we examined some early aspects of memory.', 5), ('in this section', 2), (' what we’re going to do is discuss some factors that influence memory.', 6), ('so let’s do that by beginning with the concept on slide two', 6), (' and that concept is overlearning.', 4), ('basically in overlearning', 3), (' the idea is that you continue to study something after you can recall it perfectly.', 11), ('so you study some particular topic whatever that topic is.', 9), ('when you can recall it perfectly', 4), (' you continue to study it.', 5)]\n"
     ]
    }
   ],
   "source": [
    "mod_sen=[]\n",
    "for sen in sent:\n",
    "    score=0\n",
    "    for word in nltk.word_tokenize(sen):\n",
    "        score+=token_fd[word]    \n",
    "    mod_sen.append((sen,score))\n",
    "print(mod_sen)"
   ]
  },
  {
   "cell_type": "markdown",
   "metadata": {},
   "source": [
    "The list of all sentences is sorted by their score in ascending order"
   ]
  },
  {
   "cell_type": "code",
   "execution_count": 24,
   "metadata": {},
   "outputs": [],
   "source": [
    "sort_final=sorted(mod_sen,key=lambda tup: tup[1])\n",
    "#print(sort_final[:5])"
   ]
  },
  {
   "cell_type": "markdown",
   "metadata": {},
   "source": [
    "<b>FINAL SUMMARY</b> <br>\n",
    "Top 5 sentences and their scores"
   ]
  },
  {
   "cell_type": "code",
   "execution_count": 25,
   "metadata": {},
   "outputs": [
    {
     "name": "stdout",
     "output_type": "stream",
     "text": [
      " you continue to study it. : 5 \n",
      "\n",
      " what we’re going to do is discuss some factors that influence memory. : 6 \n",
      "\n",
      "so let’s do that by beginning with the concept on slide two : 6 \n",
      "\n",
      "so you study some particular topic whatever that topic is. : 9 \n",
      "\n",
      " the idea is that you continue to study something after you can recall it perfectly. : 11 \n",
      "\n"
     ]
    }
   ],
   "source": [
    "for i in sort_final[-5:]:\n",
    "    print(i[0],':',i[1],'\\n')"
   ]
  },
  {
   "cell_type": "markdown",
   "metadata": {},
   "source": [
    "- Multiple occurences of words in a sentence that have a high frequency associated with them increases the score of a sentence. <br>\n",
    "- The amount of relevant information that a sentence contain can be thought to be high if it contains a lot of frequently used words. "
   ]
  }
 ],
 "metadata": {
  "kernelspec": {
   "display_name": "Python 3",
   "language": "python",
   "name": "python3"
  },
  "language_info": {
   "codemirror_mode": {
    "name": "ipython",
    "version": 3
   },
   "file_extension": ".py",
   "mimetype": "text/x-python",
   "name": "python",
   "nbconvert_exporter": "python",
   "pygments_lexer": "ipython3",
   "version": "3.6.8"
  }
 },
 "nbformat": 4,
 "nbformat_minor": 2
}
